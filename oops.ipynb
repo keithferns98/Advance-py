{
  "nbformat": 4,
  "nbformat_minor": 0,
  "metadata": {
    "colab": {
      "name": "oops.ipynb",
      "provenance": [],
      "authorship_tag": "ABX9TyNtT5fiCW9OAm9vnpI8UYrs",
      "include_colab_link": true
    },
    "kernelspec": {
      "name": "python3",
      "display_name": "Python 3"
    },
    "language_info": {
      "name": "python"
    }
  },
  "cells": [
    {
      "cell_type": "markdown",
      "metadata": {
        "id": "view-in-github",
        "colab_type": "text"
      },
      "source": [
        "<a href=\"https://colab.research.google.com/github/keithferns98/Advance-py/blob/main/oops.ipynb\" target=\"_parent\"><img src=\"https://colab.research.google.com/assets/colab-badge.svg\" alt=\"Open In Colab\"/></a>"
      ]
    },
    {
      "cell_type": "code",
      "metadata": {
        "id": "SYYr5urmb8w2"
      },
      "source": [
        " num=range(1,100)\n",
        " total=0\n",
        " for i in num:\n",
        "   total=total+i"
      ],
      "execution_count": 1,
      "outputs": []
    },
    {
      "cell_type": "code",
      "metadata": {
        "colab": {
          "base_uri": "https://localhost:8080/"
        },
        "id": "6nofL_OasqBY",
        "outputId": "2330b2a2-2b91-494a-c7e5-16825c907f4f"
      },
      "source": [
        "print(total)"
      ],
      "execution_count": 2,
      "outputs": [
        {
          "output_type": "stream",
          "text": [
            "4950\n"
          ],
          "name": "stdout"
        }
      ]
    },
    {
      "cell_type": "code",
      "metadata": {
        "id": "00ZzomnLswIW"
      },
      "source": [
        "k=0\n",
        "for i in range(1,100):\n",
        "  if i:\n",
        "    k+=i"
      ],
      "execution_count": 3,
      "outputs": []
    },
    {
      "cell_type": "code",
      "metadata": {
        "id": "ZoukjYE17RBj"
      },
      "source": [
        "class Employee:\n",
        "  def __init__(self,f_name,l_name,pay):\n",
        "    self.f_name=f_name\n",
        "    self.l_name=l_name\n",
        "    self.pay=pay\n",
        "    self.email=f_name + '.' + l_name + '@company.co m'\n",
        "  def full_name(self):\n",
        "    return ('{}{}'.format(self.f_name,self.l_name))\n",
        "\n",
        " \n",
        "\n"
      ],
      "execution_count": 14,
      "outputs": []
    },
    {
      "cell_type": "code",
      "metadata": {
        "id": "Lcnd5wwI8ue3"
      },
      "source": [
        "em1=Employee('Keith','Ferns',50000)"
      ],
      "execution_count": 15,
      "outputs": []
    },
    {
      "cell_type": "code",
      "metadata": {
        "colab": {
          "base_uri": "https://localhost:8080/"
        },
        "id": "tos3dsqa8x8z",
        "outputId": "68485f6c-fb2f-463f-8755-e816fa39b3fe"
      },
      "source": [
        "print(em1.full_name())"
      ],
      "execution_count": 16,
      "outputs": [
        {
          "output_type": "stream",
          "text": [
            "KeithFerns\n"
          ],
          "name": "stdout"
        }
      ]
    },
    {
      "cell_type": "code",
      "metadata": {
        "id": "5x-pSRZB_2Sl"
      },
      "source": [
        "class Emp:\n",
        "  raise_no=2\n",
        "  no_of_emps=0\n",
        "  def __init__(self,fname,lname,pay):\n",
        "    \n",
        "    self.fname=fname\n",
        "    self.lname=lname\n",
        "    self.pay=pay\n",
        "    self.email=fname + '.' + lname + '@company.com'\n",
        "    Emp.no_of_emps+=1\n",
        "  def full_name(self):\n",
        "      return '{} {}'.format(self.fname,self.lname)\n",
        "  def apply_raise(self):\n",
        "      self.pay=int(self.pay*self.raise_no)\n",
        "      \n",
        "emp1=Emp('Keith','Fernandes',55000)\n",
        "emp2=Emp('Test','OK',35000)"
      ],
      "execution_count": 64,
      "outputs": []
    },
    {
      "cell_type": "code",
      "metadata": {
        "colab": {
          "base_uri": "https://localhost:8080/"
        },
        "id": "fRz7ALYQOiAh",
        "outputId": "86f52231-38cd-4e74-f016-89822be3b7cc"
      },
      "source": [
        "print(emp1.pay)\n",
        "emp1.apply_raise()\n",
        "print(emp1.pay)\n",
        "print(emp1.raise_no)\n",
        "print(Emp.no_of_emps)"
      ],
      "execution_count": 65,
      "outputs": [
        {
          "output_type": "stream",
          "text": [
            "55000\n",
            "110000\n",
            "2\n",
            "2\n"
          ],
          "name": "stdout"
        }
      ]
    },
    {
      "cell_type": "code",
      "metadata": {
        "colab": {
          "base_uri": "https://localhost:8080/"
        },
        "id": "lL-LIDgbOrhY",
        "outputId": "c8b61b86-3521-45c9-e520-d39d4e33ec9e"
      },
      "source": [
        "print(emp1.__dict__)"
      ],
      "execution_count": 58,
      "outputs": [
        {
          "output_type": "stream",
          "text": [
            "{'fname': 'Keith', 'lname': 'Fernandes', 'pay': 220000, 'email': 'Keith.Fernandes@company.com'}\n"
          ],
          "name": "stdout"
        }
      ]
    },
    {
      "cell_type": "code",
      "metadata": {
        "colab": {
          "base_uri": "https://localhost:8080/"
        },
        "id": "t2SgUnrCQdPj",
        "outputId": "338745ca-8fcd-4567-c62f-dd283a10b4c1"
      },
      "source": [
        "print(Emp.__dict__)"
      ],
      "execution_count": 60,
      "outputs": [
        {
          "output_type": "stream",
          "text": [
            "{'__module__': '__main__', 'raise_no': 2, '__init__': <function Emp.__init__ at 0x7f595fb5e9e0>, 'full_name': <function Emp.full_name at 0x7f595fb5edd0>, 'apply_raise': <function Emp.apply_raise at 0x7f595fb5e560>, '__dict__': <attribute '__dict__' of 'Emp' objects>, '__weakref__': <attribute '__weakref__' of 'Emp' objects>, '__doc__': None}\n"
          ],
          "name": "stdout"
        }
      ]
    },
    {
      "cell_type": "code",
      "metadata": {
        "colab": {
          "base_uri": "https://localhost:8080/"
        },
        "id": "VAWckisdSk5_",
        "outputId": "051c4e8b-e0a4-4355-99c3-bac1ccdc1d78"
      },
      "source": [
        "class Emp:\n",
        "  raise_no=2\n",
        "  no_of_emps=0\n",
        "  def __init__(self,fname,lname,pay):\n",
        "    \n",
        "    self.fname=fname\n",
        "    self.lname=lname\n",
        "    self.pay=pay\n",
        "    self.email=fname + '.' + lname + '@company.com'\n",
        "    Emp.no_of_emps+=1\n",
        "  def full_name(self):\n",
        "      return '{} {}'.format(self.fname,self.lname)\n",
        "  def apply_raise(self):\n",
        "      self.pay=int(self.pay*self.raise_no)\n",
        "  @classmethod\n",
        "  def set_raise_amt(cls,amount):\n",
        "    cls.raise_no=amount\n",
        "  @classmethod\n",
        "  def string_form(cls,str):\n",
        "    first,last,pay=str.split('-')\n",
        "    return cls(first,last,pay)\n",
        "Emp.set_raise_amt(1.5)\n",
        "emp1=Emp('Keith','Fernandes',55000)\n",
        "emp2=Emp('Test','OK',35000)\n",
        "emp1.apply_raise()\n",
        "print(emp1.pay)\n",
        "\n",
        "emp_str_1 = 'John-Doe-70000'\n",
        "emp_str_2 = 'Steve-Smith-30000'\n",
        "emp_str_3 = 'Jane-Doe-90000'\n",
        "\n",
        "new_emp= Emp.string_form(emp_str_1)\n",
        "print(new_emp.email)\n"
      ],
      "execution_count": 77,
      "outputs": [
        {
          "output_type": "stream",
          "text": [
            "82500\n",
            "John.Doe@company.com\n"
          ],
          "name": "stdout"
        }
      ]
    },
    {
      "cell_type": "code",
      "metadata": {
        "colab": {
          "base_uri": "https://localhost:8080/"
        },
        "id": "LfrzaKx_qpNj",
        "outputId": "abb3d14e-5cd9-49db-a6c0-8ad7a12abddc"
      },
      "source": [
        "class Emp:\n",
        "  raise_no=2\n",
        "  no_of_emps=0\n",
        "  def __init__(self,fname,lname,pay):\n",
        "    \n",
        "    self.fname=fname\n",
        "    self.lname=lname\n",
        "    self.pay=pay\n",
        "    self.email=fname + '.' + lname + '@company.com'\n",
        "    Emp.no_of_emps+=1\n",
        "  def full_name(self):\n",
        "      return '{} {}'.format(self.fname,self.lname)\n",
        "  def apply_raise(self):\n",
        "      self.pay=int(self.pay*self.raise_no)\n",
        "  @classmethod\n",
        "  def set_raise_amt(cls,amount):\n",
        "    cls.raise_no=amount\n",
        "  @classmethod\n",
        "  def string_form(cls,str):\n",
        "    first,last,pay=str.split('-')\n",
        "    return cls(first,last,pay)\n",
        "\n",
        "\n",
        "  @staticmethod\n",
        "  def is_workday(day):\n",
        "        if day.weekday() == 5 or day.weekday() == 6:\n",
        "            return False\n",
        "        return True\n",
        "import datetime\n",
        "my_date=datetime.date(2016, 7, 10)\n",
        "print(Emp.is_workday(my_date))\n",
        "\n",
        "Emp.set_raise_amt(1.5)\n",
        "emp1=Emp('Keith','Fernandes',55000)\n",
        "emp2=Emp('Test','OK',35000)\n",
        "emp1.apply_raise()\n",
        "print(emp1.pay)\n",
        "\n",
        "emp_str_1 = 'John-Doe-70000'\n",
        "emp_str_2 = 'Steve-Smith-30000'\n",
        "emp_str_3 = 'Jane-Doe-90000'\n",
        "\n",
        "new_emp= Emp.string_form(emp_str_1)\n",
        "print(new_emp.email)\n"
      ],
      "execution_count": 83,
      "outputs": [
        {
          "output_type": "stream",
          "text": [
            "False\n",
            "82500\n",
            "John.Doe@company.com\n"
          ],
          "name": "stdout"
        }
      ]
    },
    {
      "cell_type": "code",
      "metadata": {
        "id": "1NvLsZElyzec"
      },
      "source": [
        ""
      ],
      "execution_count": null,
      "outputs": []
    }
  ]
}