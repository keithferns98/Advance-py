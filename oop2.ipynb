{
  "nbformat": 4,
  "nbformat_minor": 0,
  "metadata": {
    "colab": {
      "name": "oop2.ipynb",
      "provenance": [],
      "authorship_tag": "ABX9TyMXrxVT/6ycT62/SE3pOeVO",
      "include_colab_link": true
    },
    "kernelspec": {
      "name": "python3",
      "display_name": "Python 3"
    },
    "language_info": {
      "name": "python"
    }
  },
  "cells": [
    {
      "cell_type": "markdown",
      "metadata": {
        "id": "view-in-github",
        "colab_type": "text"
      },
      "source": [
        "<a href=\"https://colab.research.google.com/github/keithferns98/Advance-py/blob/main/oop2.ipynb\" target=\"_parent\"><img src=\"https://colab.research.google.com/assets/colab-badge.svg\" alt=\"Open In Colab\"/></a>"
      ]
    },
    {
      "cell_type": "code",
      "metadata": {
        "id": "tgjlq7DWGntV"
      },
      "source": [
        "class Employee:\n",
        "  raise_amt=1.05\n",
        "  def __init__(self,fname,lname,pay):\n",
        "      self.fname=fname\n",
        "      self.lname=lname\n",
        "      self.email=fname + '.' + lname + '@company.com'\n",
        "      self.pay=pay\n",
        "  \n",
        "  def fullname(self):\n",
        "    return '{} {}'.format(self.fname,self.lname)\n",
        "  def apply_raise(self):\n",
        "    #return self.pay*self.raise_amt\n",
        "    self.pay=int(self.pay*self.raise_amt)\n",
        "\n",
        "class Developer(Employee):\n",
        "  raise_amt=1.10\n",
        "  def __init__(self,fname,lname,pay,prog_lang):\n",
        "        super().__init__(fname,lname,pay)\n",
        "        self.prog_lang=prog_lang\n",
        "\n",
        "class Manager(Employee):\n",
        "  def __init__(self,fname,lname,pay,employees=None):\n",
        "      super().__init__(fname,lname,pay)\n",
        "      if employees is None:\n",
        "        self.employees=[]\n",
        "      else:\n",
        "        self.employees=employees\n",
        "  def add_in(self,emp):\n",
        "    if emp not in self.employees:\n",
        "        self.employees.append(emp)\n",
        "\n",
        "  def remove(self,emp):\n",
        "    if emp in self.employees:\n",
        "      self.employees.remove(emp)\n",
        "  \n",
        "  def print_emps(self):\n",
        "    for emp in self.employees:\n",
        "      print('--->',emp.fullname())\n",
        "\n",
        "\n",
        "\n",
        "   "
      ],
      "execution_count": 56,
      "outputs": []
    },
    {
      "cell_type": "markdown",
      "metadata": {
        "id": "EU34iG3CReuq"
      },
      "source": [
        ""
      ]
    },
    {
      "cell_type": "code",
      "metadata": {
        "colab": {
          "base_uri": "https://localhost:8080/"
        },
        "id": "LhyNpDd1IgEt",
        "outputId": "7403b32c-6c90-4a78-cef8-ee2371f12743"
      },
      "source": [
        "emp1=Employee('Keith','Fernandes',50000)\n",
        "dev1=Developer('Ke','Fe',65000,'Python')\n",
        "dev2=Developer('test','dat',60000,'Java')\n",
        "\n",
        "mgr_1=Manager('Su','shi',30000,[dev1])\n",
        "\n",
        "print(mgr_1.email)"
      ],
      "execution_count": 57,
      "outputs": [
        {
          "output_type": "stream",
          "text": [
            "Su.shi@company.com\n"
          ],
          "name": "stdout"
        }
      ]
    },
    {
      "cell_type": "code",
      "metadata": {
        "colab": {
          "base_uri": "https://localhost:8080/"
        },
        "id": "_-3Hnu17TsrM",
        "outputId": "3441c9fb-4e98-4cef-9c05-5303f9f7acac"
      },
      "source": [
        "mgr_1.add_in(dev2)\n",
        "mgr_1.print_emps()\n",
        "mgr_1.remove(dev2)\n",
        "mgr_1.print_emps()"
      ],
      "execution_count": 62,
      "outputs": [
        {
          "output_type": "stream",
          "text": [
            "---> Ke Fe\n",
            "---> test dat\n",
            "---> Ke Fe\n"
          ],
          "name": "stdout"
        }
      ]
    },
    {
      "cell_type": "code",
      "metadata": {
        "colab": {
          "base_uri": "https://localhost:8080/",
          "height": 35
        },
        "id": "2Yiw4GkkOv21",
        "outputId": "5e3caec1-1b4b-4e9d-951d-4c8fc4213546"
      },
      "source": [
        "dev1.prog_lang"
      ],
      "execution_count": 41,
      "outputs": [
        {
          "output_type": "execute_result",
          "data": {
            "application/vnd.google.colaboratory.intrinsic+json": {
              "type": "string"
            },
            "text/plain": [
              "'Python'"
            ]
          },
          "metadata": {},
          "execution_count": 41
        }
      ]
    },
    {
      "cell_type": "markdown",
      "metadata": {
        "id": "zF6x-iSMMEz0"
      },
      "source": [
        ""
      ]
    },
    {
      "cell_type": "code",
      "metadata": {
        "colab": {
          "base_uri": "https://localhost:8080/"
        },
        "id": "kx7MYULAIy6n",
        "outputId": "12b81404-bf31-409d-ba8a-43259cc15539"
      },
      "source": [
        "emp1.apply_raise()"
      ],
      "execution_count": 6,
      "outputs": [
        {
          "output_type": "execute_result",
          "data": {
            "text/plain": [
              "52500.0"
            ]
          },
          "metadata": {},
          "execution_count": 6
        }
      ]
    },
    {
      "cell_type": "code",
      "metadata": {
        "colab": {
          "base_uri": "https://localhost:8080/"
        },
        "id": "yymIg2D9I3b9",
        "outputId": "f530fb99-cd6d-4351-f86a-bf92cbd8ec5f"
      },
      "source": [
        "print(dev1.email)"
      ],
      "execution_count": 13,
      "outputs": [
        {
          "output_type": "stream",
          "text": [
            "Ke.Fe@company.com\n"
          ],
          "name": "stdout"
        }
      ]
    },
    {
      "cell_type": "code",
      "metadata": {
        "colab": {
          "base_uri": "https://localhost:8080/"
        },
        "id": "PPrlBmr0J6Oy",
        "outputId": "a02ad50b-ed5c-4f5b-bdce-e778c28d32a5"
      },
      "source": [
        "print(dev1.pay)"
      ],
      "execution_count": 32,
      "outputs": [
        {
          "output_type": "stream",
          "text": [
            "65000\n"
          ],
          "name": "stdout"
        }
      ]
    },
    {
      "cell_type": "code",
      "metadata": {
        "id": "2UsJtVgFMJ43"
      },
      "source": [
        "dev1.apply_raise()\n"
      ],
      "execution_count": 33,
      "outputs": []
    },
    {
      "cell_type": "code",
      "metadata": {
        "colab": {
          "base_uri": "https://localhost:8080/"
        },
        "id": "xbW-t3mpMXnZ",
        "outputId": "778366d7-27f6-44d7-8652-6a25a1fb539c"
      },
      "source": [
        "print(dev1.pay)"
      ],
      "execution_count": 34,
      "outputs": [
        {
          "output_type": "stream",
          "text": [
            "71500\n"
          ],
          "name": "stdout"
        }
      ]
    },
    {
      "cell_type": "code",
      "metadata": {
        "id": "XSy0TEbZM-sW"
      },
      "source": [
        ""
      ],
      "execution_count": null,
      "outputs": []
    }
  ]
}